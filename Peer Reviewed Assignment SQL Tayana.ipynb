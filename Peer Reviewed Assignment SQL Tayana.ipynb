{
 "cells": [
  {
   "cell_type": "raw",
   "metadata": {},
   "source": [
    "# Peer Reviewed Assignment"
   ]
  },
  {
   "cell_type": "code",
   "execution_count": 24,
   "metadata": {},
   "outputs": [
    {
     "name": "stdout",
     "output_type": "stream",
     "text": [
      "The sql extension is already loaded. To reload it, use:\n",
      "  %reload_ext sql\n"
     ]
    }
   ],
   "source": [
    "%load_ext sql"
   ]
  },
  {
   "cell_type": "code",
   "execution_count": 25,
   "metadata": {},
   "outputs": [],
   "source": [
    "%sql ibm_db_sa://vkf57376:3xm%2Bmkrv8fcvm60v@dashdb-txn-sbox-yp-lon02-07.services.eu-gb.bluemix.net:50000/BLUDB"
   ]
  },
  {
   "cell_type": "raw",
   "metadata": {},
   "source": [
    "# Problem 1: Find the total number of crimes recorded in the crime table."
   ]
  },
  {
   "cell_type": "code",
   "execution_count": 3,
   "metadata": {},
   "outputs": [
    {
     "name": "stdout",
     "output_type": "stream",
     "text": [
      " * ibm_db_sa://vkf57376:***@dashdb-txn-sbox-yp-lon02-07.services.eu-gb.bluemix.net:50000/BLUDB\n",
      "Done.\n"
     ]
    },
    {
     "data": {
      "text/html": [
       "<table>\n",
       "    <tr>\n",
       "        <th>1</th>\n",
       "    </tr>\n",
       "    <tr>\n",
       "        <td>533</td>\n",
       "    </tr>\n",
       "</table>"
      ],
      "text/plain": [
       "[(Decimal('533'),)]"
      ]
     },
     "execution_count": 3,
     "metadata": {},
     "output_type": "execute_result"
    }
   ],
   "source": [
    "%sql select count(*) from CHICAGO_CRIME_DATA"
   ]
  },
  {
   "cell_type": "raw",
   "metadata": {},
   "source": [
    "# Problem 2: Retrieve first 10 rows from the CRIME table."
   ]
  },
  {
   "cell_type": "code",
   "execution_count": 4,
   "metadata": {},
   "outputs": [
    {
     "name": "stdout",
     "output_type": "stream",
     "text": [
      " * ibm_db_sa://vkf57376:***@dashdb-txn-sbox-yp-lon02-07.services.eu-gb.bluemix.net:50000/BLUDB\n",
      "Done.\n"
     ]
    },
    {
     "data": {
      "text/html": [
       "<table>\n",
       "    <tr>\n",
       "        <th>id</th>\n",
       "        <th>case_number</th>\n",
       "        <th>DATE</th>\n",
       "        <th>block</th>\n",
       "        <th>iucr</th>\n",
       "        <th>primary_type</th>\n",
       "        <th>description</th>\n",
       "        <th>location_description</th>\n",
       "        <th>arrest</th>\n",
       "        <th>domestic</th>\n",
       "        <th>beat</th>\n",
       "        <th>district</th>\n",
       "        <th>ward</th>\n",
       "        <th>community_area_number</th>\n",
       "        <th>fbicode</th>\n",
       "        <th>x_coordinate</th>\n",
       "        <th>y_coordinate</th>\n",
       "        <th>YEAR</th>\n",
       "        <th>updatedon</th>\n",
       "        <th>latitude</th>\n",
       "        <th>longitude</th>\n",
       "        <th>location</th>\n",
       "    </tr>\n",
       "    <tr>\n",
       "        <td>21149</td>\n",
       "        <td>HW519443</td>\n",
       "        <td>2013-11-03 19:27:00</td>\n",
       "        <td>044XX S RICHMOND ST</td>\n",
       "        <td>110</td>\n",
       "        <td>HOMICIDE</td>\n",
       "        <td>FIRST DEGREE MURDER</td>\n",
       "        <td>HOUSE</td>\n",
       "        <td>TRUE</td>\n",
       "        <td>TRUE</td>\n",
       "        <td>922</td>\n",
       "        <td>9</td>\n",
       "        <td>14</td>\n",
       "        <td>58</td>\n",
       "        <td>01A</td>\n",
       "        <td>1157439</td>\n",
       "        <td>1875086</td>\n",
       "        <td>2013</td>\n",
       "        <td>08/05/2016 03:48:24 PM</td>\n",
       "        <td>41.81299523</td>\n",
       "        <td>-87.69802859</td>\n",
       "        <td>(41.812995227, -87.698028592)</td>\n",
       "    </tr>\n",
       "    <tr>\n",
       "        <td>23469</td>\n",
       "        <td>JA359626</td>\n",
       "        <td>2017-07-23 09:25:00</td>\n",
       "        <td>015XX E 82ND ST</td>\n",
       "        <td>110</td>\n",
       "        <td>HOMICIDE</td>\n",
       "        <td>FIRST DEGREE MURDER</td>\n",
       "        <td>STREET</td>\n",
       "        <td>FALSE</td>\n",
       "        <td>FALSE</td>\n",
       "        <td>411</td>\n",
       "        <td>4</td>\n",
       "        <td>8</td>\n",
       "        <td>45</td>\n",
       "        <td>01A</td>\n",
       "        <td>1188090</td>\n",
       "        <td>1850923</td>\n",
       "        <td>2017</td>\n",
       "        <td>07/30/2017 03:51:44 PM</td>\n",
       "        <td>41.74601319</td>\n",
       "        <td>-87.58637073</td>\n",
       "        <td>(41.746013191, -87.58637073)</td>\n",
       "    </tr>\n",
       "    <tr>\n",
       "        <td>1326195</td>\n",
       "        <td>G021609</td>\n",
       "        <td>2001-01-11 02:30:41</td>\n",
       "        <td>087XX S ESCANABA AV</td>\n",
       "        <td>9901</td>\n",
       "        <td>DOMESTIC VIOLENCE</td>\n",
       "        <td>DOMESTIC VIOLENCE</td>\n",
       "        <td>APARTMENT</td>\n",
       "        <td>TRUE</td>\n",
       "        <td>TRUE</td>\n",
       "        <td>423</td>\n",
       "        <td>4</td>\n",
       "        <td>None</td>\n",
       "        <td>None</td>\n",
       "        <td>08B</td>\n",
       "        <td>1196869</td>\n",
       "        <td>1847416</td>\n",
       "        <td>2001</td>\n",
       "        <td>08/17/2015 03:03:40 PM</td>\n",
       "        <td>41.73617608</td>\n",
       "        <td>-87.55431961</td>\n",
       "        <td>(41.73617608, -87.554319607)</td>\n",
       "    </tr>\n",
       "    <tr>\n",
       "        <td>1340847</td>\n",
       "        <td>G040244</td>\n",
       "        <td>2001-01-19 18:39:03</td>\n",
       "        <td>063XX N NAGLE AV</td>\n",
       "        <td>820</td>\n",
       "        <td>THEFT</td>\n",
       "        <td>$500 AND UNDER</td>\n",
       "        <td>GROCERY FOOD STORE</td>\n",
       "        <td>TRUE</td>\n",
       "        <td>FALSE</td>\n",
       "        <td>1611</td>\n",
       "        <td>16</td>\n",
       "        <td>None</td>\n",
       "        <td>None</td>\n",
       "        <td>6</td>\n",
       "        <td>1132586</td>\n",
       "        <td>1941599</td>\n",
       "        <td>2001</td>\n",
       "        <td>08/17/2015 03:03:40 PM</td>\n",
       "        <td>41.99598354</td>\n",
       "        <td>-87.78763989</td>\n",
       "        <td>(41.99598354, -87.787639887)</td>\n",
       "    </tr>\n",
       "    <tr>\n",
       "        <td>1353618</td>\n",
       "        <td>G056330</td>\n",
       "        <td>2001-01-27 16:20:00</td>\n",
       "        <td>078XX S SAWYER AV</td>\n",
       "        <td>460</td>\n",
       "        <td>BATTERY</td>\n",
       "        <td>SIMPLE</td>\n",
       "        <td>RESIDENCE PORCH/HALLWAY</td>\n",
       "        <td>TRUE</td>\n",
       "        <td>TRUE</td>\n",
       "        <td>835</td>\n",
       "        <td>8</td>\n",
       "        <td>None</td>\n",
       "        <td>None</td>\n",
       "        <td>08B</td>\n",
       "        <td>1156032</td>\n",
       "        <td>1852572</td>\n",
       "        <td>2001</td>\n",
       "        <td>08/17/2015 03:03:40 PM</td>\n",
       "        <td>41.75124194</td>\n",
       "        <td>-87.70379416</td>\n",
       "        <td>(41.751241937, -87.703794164)</td>\n",
       "    </tr>\n",
       "    <tr>\n",
       "        <td>1363954</td>\n",
       "        <td>G070193</td>\n",
       "        <td>2001-02-03 03:00:00</td>\n",
       "        <td>004XX W WRIGHTWOOD AV</td>\n",
       "        <td>460</td>\n",
       "        <td>BATTERY</td>\n",
       "        <td>SIMPLE</td>\n",
       "        <td>RESIDENCE</td>\n",
       "        <td>FALSE</td>\n",
       "        <td>FALSE</td>\n",
       "        <td>2333</td>\n",
       "        <td>19</td>\n",
       "        <td>None</td>\n",
       "        <td>None</td>\n",
       "        <td>08B</td>\n",
       "        <td>1172852</td>\n",
       "        <td>1918278</td>\n",
       "        <td>2001</td>\n",
       "        <td>08/17/2015 03:03:40 PM</td>\n",
       "        <td>41.93119046</td>\n",
       "        <td>-87.64021400</td>\n",
       "        <td>(41.93119046, -87.640214004)</td>\n",
       "    </tr>\n",
       "    <tr>\n",
       "        <td>1367327</td>\n",
       "        <td>G057394</td>\n",
       "        <td>2001-01-28 07:10:00</td>\n",
       "        <td>046XX S CICERO AV</td>\n",
       "        <td>1513</td>\n",
       "        <td>PROSTITUTION</td>\n",
       "        <td>SOLICIT FOR BUSINESS</td>\n",
       "        <td>STREET</td>\n",
       "        <td>TRUE</td>\n",
       "        <td>FALSE</td>\n",
       "        <td>814</td>\n",
       "        <td>8</td>\n",
       "        <td>None</td>\n",
       "        <td>None</td>\n",
       "        <td>16</td>\n",
       "        <td>1145110</td>\n",
       "        <td>1873073</td>\n",
       "        <td>2001</td>\n",
       "        <td>08/17/2015 03:03:40 PM</td>\n",
       "        <td>41.80771246</td>\n",
       "        <td>-87.74330304</td>\n",
       "        <td>(41.807712461, -87.743303038)</td>\n",
       "    </tr>\n",
       "    <tr>\n",
       "        <td>1414626</td>\n",
       "        <td>G134016</td>\n",
       "        <td>2001-03-01 23:00:00</td>\n",
       "        <td>055XX S NOTTINGHAM AV</td>\n",
       "        <td>1310</td>\n",
       "        <td>CRIMINAL DAMAGE</td>\n",
       "        <td>TO PROPERTY</td>\n",
       "        <td>RESIDENCE</td>\n",
       "        <td>FALSE</td>\n",
       "        <td>FALSE</td>\n",
       "        <td>811</td>\n",
       "        <td>8</td>\n",
       "        <td>None</td>\n",
       "        <td>None</td>\n",
       "        <td>14</td>\n",
       "        <td>1130022</td>\n",
       "        <td>1866716</td>\n",
       "        <td>2001</td>\n",
       "        <td>08/17/2015 03:03:40 PM</td>\n",
       "        <td>41.79053860</td>\n",
       "        <td>-87.79878798</td>\n",
       "        <td>(41.790538595, -87.79878798)</td>\n",
       "    </tr>\n",
       "    <tr>\n",
       "        <td>1419496</td>\n",
       "        <td>G140454</td>\n",
       "        <td>2001-03-11 16:44:05</td>\n",
       "        <td>077XX S SOUTH SHORE DR</td>\n",
       "        <td>460</td>\n",
       "        <td>BATTERY</td>\n",
       "        <td>SIMPLE</td>\n",
       "        <td>APARTMENT</td>\n",
       "        <td>FALSE</td>\n",
       "        <td>FALSE</td>\n",
       "        <td>421</td>\n",
       "        <td>4</td>\n",
       "        <td>None</td>\n",
       "        <td>None</td>\n",
       "        <td>08B</td>\n",
       "        <td>1197205</td>\n",
       "        <td>1854743</td>\n",
       "        <td>2001</td>\n",
       "        <td>08/17/2015 03:03:40 PM</td>\n",
       "        <td>41.75627357</td>\n",
       "        <td>-87.55284517</td>\n",
       "        <td>(41.756273565, -87.552845167)</td>\n",
       "    </tr>\n",
       "    <tr>\n",
       "        <td>1427912</td>\n",
       "        <td>G122095</td>\n",
       "        <td>2001-03-02 16:20:00</td>\n",
       "        <td>039XX N ASHLAND AV</td>\n",
       "        <td>1505</td>\n",
       "        <td>PROSTITUTION</td>\n",
       "        <td>CALL OPERATION</td>\n",
       "        <td>RESIDENCE</td>\n",
       "        <td>TRUE</td>\n",
       "        <td>FALSE</td>\n",
       "        <td>1923</td>\n",
       "        <td>19</td>\n",
       "        <td>None</td>\n",
       "        <td>None</td>\n",
       "        <td>16</td>\n",
       "        <td>1164982</td>\n",
       "        <td>1926580</td>\n",
       "        <td>2001</td>\n",
       "        <td>08/17/2015 03:03:40 PM</td>\n",
       "        <td>41.95414251</td>\n",
       "        <td>-87.66889815</td>\n",
       "        <td>(41.954142513, -87.668898147)</td>\n",
       "    </tr>\n",
       "</table>"
      ],
      "text/plain": [
       "[(21149, 'HW519443', datetime.datetime(2013, 11, 3, 19, 27), '044XX S RICHMOND ST', '110', 'HOMICIDE', 'FIRST DEGREE MURDER', 'HOUSE', 'TRUE', 'TRUE', 922, 9, 14, 58, '01A', 1157439, 1875086, 2013, '08/05/2016 03:48:24 PM', Decimal('41.81299523'), Decimal('-87.69802859'), '(41.812995227, -87.698028592)'),\n",
       " (23469, 'JA359626', datetime.datetime(2017, 7, 23, 9, 25), '015XX E 82ND ST', '110', 'HOMICIDE', 'FIRST DEGREE MURDER', 'STREET', 'FALSE', 'FALSE', 411, 4, 8, 45, '01A', 1188090, 1850923, 2017, '07/30/2017 03:51:44 PM', Decimal('41.74601319'), Decimal('-87.58637073'), '(41.746013191, -87.58637073)'),\n",
       " (1326195, 'G021609', datetime.datetime(2001, 1, 11, 2, 30, 41), '087XX S ESCANABA AV', '9901', 'DOMESTIC VIOLENCE', 'DOMESTIC VIOLENCE', 'APARTMENT', 'TRUE', 'TRUE', 423, 4, None, None, '08B', 1196869, 1847416, 2001, '08/17/2015 03:03:40 PM', Decimal('41.73617608'), Decimal('-87.55431961'), '(41.73617608, -87.554319607)'),\n",
       " (1340847, 'G040244', datetime.datetime(2001, 1, 19, 18, 39, 3), '063XX N NAGLE AV', '820', 'THEFT', '$500 AND UNDER', 'GROCERY FOOD STORE', 'TRUE', 'FALSE', 1611, 16, None, None, '6', 1132586, 1941599, 2001, '08/17/2015 03:03:40 PM', Decimal('41.99598354'), Decimal('-87.78763989'), '(41.99598354, -87.787639887)'),\n",
       " (1353618, 'G056330', datetime.datetime(2001, 1, 27, 16, 20), '078XX S SAWYER AV', '460', 'BATTERY', 'SIMPLE', 'RESIDENCE PORCH/HALLWAY', 'TRUE', 'TRUE', 835, 8, None, None, '08B', 1156032, 1852572, 2001, '08/17/2015 03:03:40 PM', Decimal('41.75124194'), Decimal('-87.70379416'), '(41.751241937, -87.703794164)'),\n",
       " (1363954, 'G070193', datetime.datetime(2001, 2, 3, 3, 0), '004XX W WRIGHTWOOD AV', '460', 'BATTERY', 'SIMPLE', 'RESIDENCE', 'FALSE', 'FALSE', 2333, 19, None, None, '08B', 1172852, 1918278, 2001, '08/17/2015 03:03:40 PM', Decimal('41.93119046'), Decimal('-87.64021400'), '(41.93119046, -87.640214004)'),\n",
       " (1367327, 'G057394', datetime.datetime(2001, 1, 28, 7, 10), '046XX S CICERO AV', '1513', 'PROSTITUTION', 'SOLICIT FOR BUSINESS', 'STREET', 'TRUE', 'FALSE', 814, 8, None, None, '16', 1145110, 1873073, 2001, '08/17/2015 03:03:40 PM', Decimal('41.80771246'), Decimal('-87.74330304'), '(41.807712461, -87.743303038)'),\n",
       " (1414626, 'G134016', datetime.datetime(2001, 3, 1, 23, 0), '055XX S NOTTINGHAM AV', '1310', 'CRIMINAL DAMAGE', 'TO PROPERTY', 'RESIDENCE', 'FALSE', 'FALSE', 811, 8, None, None, '14', 1130022, 1866716, 2001, '08/17/2015 03:03:40 PM', Decimal('41.79053860'), Decimal('-87.79878798'), '(41.790538595, -87.79878798)'),\n",
       " (1419496, 'G140454', datetime.datetime(2001, 3, 11, 16, 44, 5), '077XX S SOUTH SHORE DR', '460', 'BATTERY', 'SIMPLE', 'APARTMENT', 'FALSE', 'FALSE', 421, 4, None, None, '08B', 1197205, 1854743, 2001, '08/17/2015 03:03:40 PM', Decimal('41.75627357'), Decimal('-87.55284517'), '(41.756273565, -87.552845167)'),\n",
       " (1427912, 'G122095', datetime.datetime(2001, 3, 2, 16, 20), '039XX N ASHLAND AV', '1505', 'PROSTITUTION', 'CALL OPERATION', 'RESIDENCE', 'TRUE', 'FALSE', 1923, 19, None, None, '16', 1164982, 1926580, 2001, '08/17/2015 03:03:40 PM', Decimal('41.95414251'), Decimal('-87.66889815'), '(41.954142513, -87.668898147)')]"
      ]
     },
     "execution_count": 4,
     "metadata": {},
     "output_type": "execute_result"
    }
   ],
   "source": [
    "%sql select * from CHICAGO_CRIME_DATA order by ID limit 10"
   ]
  },
  {
   "cell_type": "raw",
   "metadata": {},
   "source": [
    "# Problem 3: How many crimes involve an arrest."
   ]
  },
  {
   "cell_type": "code",
   "execution_count": 5,
   "metadata": {},
   "outputs": [
    {
     "name": "stdout",
     "output_type": "stream",
     "text": [
      " * ibm_db_sa://vkf57376:***@dashdb-txn-sbox-yp-lon02-07.services.eu-gb.bluemix.net:50000/BLUDB\n",
      "Done.\n"
     ]
    },
    {
     "data": {
      "text/html": [
       "<table>\n",
       "    <tr>\n",
       "        <th>1</th>\n",
       "    </tr>\n",
       "    <tr>\n",
       "        <td>163</td>\n",
       "    </tr>\n",
       "</table>"
      ],
      "text/plain": [
       "[(Decimal('163'),)]"
      ]
     },
     "execution_count": 5,
     "metadata": {},
     "output_type": "execute_result"
    }
   ],
   "source": [
    "%sql select count(*) from CHICAGO_CRIME_DATA where Arrest = TRUE"
   ]
  },
  {
   "cell_type": "raw",
   "metadata": {},
   "source": [
    "# Problem 4: Which unique types of crimes (e.g. THEFT) have been recorded at a GAS STATION locations?"
   ]
  },
  {
   "cell_type": "code",
   "execution_count": 11,
   "metadata": {},
   "outputs": [
    {
     "name": "stdout",
     "output_type": "stream",
     "text": [
      " * ibm_db_sa://vkf57376:***@dashdb-txn-sbox-yp-lon02-07.services.eu-gb.bluemix.net:50000/BLUDB\n",
      "Done.\n"
     ]
    },
    {
     "data": {
      "text/html": [
       "<table>\n",
       "    <tr>\n",
       "        <th>primary_type</th>\n",
       "        <th>location_description</th>\n",
       "    </tr>\n",
       "    <tr>\n",
       "        <td>CRIMINAL TRESPASS</td>\n",
       "        <td>GAS STATION</td>\n",
       "    </tr>\n",
       "    <tr>\n",
       "        <td>NARCOTICS</td>\n",
       "        <td>GAS STATION</td>\n",
       "    </tr>\n",
       "    <tr>\n",
       "        <td>ROBBERY</td>\n",
       "        <td>GAS STATION</td>\n",
       "    </tr>\n",
       "    <tr>\n",
       "        <td>THEFT</td>\n",
       "        <td>GAS STATION</td>\n",
       "    </tr>\n",
       "</table>"
      ],
      "text/plain": [
       "[('CRIMINAL TRESPASS', 'GAS STATION'),\n",
       " ('NARCOTICS', 'GAS STATION'),\n",
       " ('ROBBERY', 'GAS STATION'),\n",
       " ('THEFT', 'GAS STATION')]"
      ]
     },
     "execution_count": 11,
     "metadata": {},
     "output_type": "execute_result"
    }
   ],
   "source": [
    "%sql select unique(primary_type), location_description from CHICAGO_CRIME_DATA where location_description = 'GAS STATION'"
   ]
  },
  {
   "cell_type": "raw",
   "metadata": {},
   "source": [
    "# Problem 5: In the CENUS_DATA table list all community areas whose names start with the letter ‘B’."
   ]
  },
  {
   "cell_type": "code",
   "execution_count": 13,
   "metadata": {},
   "outputs": [
    {
     "name": "stdout",
     "output_type": "stream",
     "text": [
      " * ibm_db_sa://vkf57376:***@dashdb-txn-sbox-yp-lon02-07.services.eu-gb.bluemix.net:50000/BLUDB\n",
      "Done.\n"
     ]
    },
    {
     "data": {
      "text/html": [
       "<table>\n",
       "    <tr>\n",
       "        <th>community_area_name</th>\n",
       "    </tr>\n",
       "    <tr>\n",
       "        <td>Belmont Cragin</td>\n",
       "    </tr>\n",
       "    <tr>\n",
       "        <td>Burnside</td>\n",
       "    </tr>\n",
       "    <tr>\n",
       "        <td>Brighton Park</td>\n",
       "    </tr>\n",
       "    <tr>\n",
       "        <td>Bridgeport</td>\n",
       "    </tr>\n",
       "    <tr>\n",
       "        <td>Beverly</td>\n",
       "    </tr>\n",
       "</table>"
      ],
      "text/plain": [
       "[('Belmont Cragin',),\n",
       " ('Burnside',),\n",
       " ('Brighton Park',),\n",
       " ('Bridgeport',),\n",
       " ('Beverly',)]"
      ]
     },
     "execution_count": 13,
     "metadata": {},
     "output_type": "execute_result"
    }
   ],
   "source": [
    "%sql select COMMUNITY_AREA_NAME from CENSUS_DATA where COMMUNITY_AREA_NAME like 'B%'"
   ]
  },
  {
   "cell_type": "raw",
   "metadata": {},
   "source": [
    "# Problem 6: List the schools in community areas 10 to 15 that are healthy school certified."
   ]
  },
  {
   "cell_type": "code",
   "execution_count": 17,
   "metadata": {},
   "outputs": [
    {
     "name": "stdout",
     "output_type": "stream",
     "text": [
      " * ibm_db_sa://vkf57376:***@dashdb-txn-sbox-yp-lon02-07.services.eu-gb.bluemix.net:50000/BLUDB\n",
      "Done.\n"
     ]
    },
    {
     "data": {
      "text/html": [
       "<table>\n",
       "    <tr>\n",
       "        <th>name_of_school</th>\n",
       "    </tr>\n",
       "    <tr>\n",
       "        <td>Rufus M Hitch Elementary School</td>\n",
       "    </tr>\n",
       "</table>"
      ],
      "text/plain": [
       "[('Rufus M Hitch Elementary School',)]"
      ]
     },
     "execution_count": 17,
     "metadata": {},
     "output_type": "execute_result"
    }
   ],
   "source": [
    "%sql SELECT NAME_OF_SCHOOL FROM CHICAGO_PUBLIC_SCHOOLS \\\n",
    "WHERE HEALTHY_SCHOOL_CERTIFIED = 'Yes' AND  COMMUNITY_AREA_NUMBER BETWEEN 10 and 15"
   ]
  },
  {
   "cell_type": "raw",
   "metadata": {},
   "source": [
    "# Problem 7: What is the average school Safety Score?"
   ]
  },
  {
   "cell_type": "code",
   "execution_count": 18,
   "metadata": {},
   "outputs": [
    {
     "name": "stdout",
     "output_type": "stream",
     "text": [
      " * ibm_db_sa://vkf57376:***@dashdb-txn-sbox-yp-lon02-07.services.eu-gb.bluemix.net:50000/BLUDB\n",
      "Done.\n"
     ]
    },
    {
     "data": {
      "text/html": [
       "<table>\n",
       "    <tr>\n",
       "        <th>safety_score_avg</th>\n",
       "    </tr>\n",
       "    <tr>\n",
       "        <td>49.504873</td>\n",
       "    </tr>\n",
       "</table>"
      ],
      "text/plain": [
       "[(Decimal('49.504873'),)]"
      ]
     },
     "execution_count": 18,
     "metadata": {},
     "output_type": "execute_result"
    }
   ],
   "source": [
    "%sql select AVG(SAFETY_SCORE) as SAFETY_SCORE_AVG from CHICAGO_PUBLIC_SCHOOLS"
   ]
  },
  {
   "cell_type": "raw",
   "metadata": {},
   "source": [
    "# Problem 8: Find the top 5 Community Areas by average College Enrollment [number of students]."
   ]
  },
  {
   "cell_type": "code",
   "execution_count": 21,
   "metadata": {},
   "outputs": [
    {
     "name": "stdout",
     "output_type": "stream",
     "text": [
      " * ibm_db_sa://vkf57376:***@dashdb-txn-sbox-yp-lon02-07.services.eu-gb.bluemix.net:50000/BLUDB\n",
      "Done.\n"
     ]
    },
    {
     "data": {
      "text/html": [
       "<table>\n",
       "    <tr>\n",
       "        <th>community_area_name</th>\n",
       "        <th>avg_college_enrollment</th>\n",
       "    </tr>\n",
       "    <tr>\n",
       "        <td>ARCHER HEIGHTS</td>\n",
       "        <td>2411.500000</td>\n",
       "    </tr>\n",
       "    <tr>\n",
       "        <td>MONTCLARE</td>\n",
       "        <td>1317.000000</td>\n",
       "    </tr>\n",
       "    <tr>\n",
       "        <td>WEST ELSDON</td>\n",
       "        <td>1233.333333</td>\n",
       "    </tr>\n",
       "    <tr>\n",
       "        <td>BRIGHTON PARK</td>\n",
       "        <td>1205.875000</td>\n",
       "    </tr>\n",
       "    <tr>\n",
       "        <td>BELMONT CRAGIN</td>\n",
       "        <td>1198.833333</td>\n",
       "    </tr>\n",
       "</table>"
      ],
      "text/plain": [
       "[('ARCHER HEIGHTS', Decimal('2411.500000')),\n",
       " ('MONTCLARE', Decimal('1317.000000')),\n",
       " ('WEST ELSDON', Decimal('1233.333333')),\n",
       " ('BRIGHTON PARK', Decimal('1205.875000')),\n",
       " ('BELMONT CRAGIN', Decimal('1198.833333'))]"
      ]
     },
     "execution_count": 21,
     "metadata": {},
     "output_type": "execute_result"
    }
   ],
   "source": [
    "%sql select COMMUNITY_AREA_NAME, AVG(college_enrollment) as AVG_college_enrollment from CHICAGO_PUBLIC_SCHOOLS \\\n",
    "group by COMMUNITY_AREA_NAME order by AVG_college_enrollment desc limit 5"
   ]
  },
  {
   "cell_type": "raw",
   "metadata": {},
   "source": [
    "# Problem 9: Use a sub-query to determine which Community Area has the least value for school Safety Score?"
   ]
  },
  {
   "cell_type": "code",
   "execution_count": 22,
   "metadata": {},
   "outputs": [
    {
     "name": "stdout",
     "output_type": "stream",
     "text": [
      " * ibm_db_sa://vkf57376:***@dashdb-txn-sbox-yp-lon02-07.services.eu-gb.bluemix.net:50000/BLUDB\n",
      "Done.\n"
     ]
    },
    {
     "data": {
      "text/html": [
       "<table>\n",
       "    <tr>\n",
       "        <th>community_area_name</th>\n",
       "    </tr>\n",
       "    <tr>\n",
       "        <td>WASHINGTON PARK</td>\n",
       "    </tr>\n",
       "</table>"
      ],
      "text/plain": [
       "[('WASHINGTON PARK',)]"
      ]
     },
     "execution_count": 22,
     "metadata": {},
     "output_type": "execute_result"
    }
   ],
   "source": [
    "%sql select community_area_name from  CHICAGO_PUBLIC_SCHOOLS \\\n",
    "where SAFETY_SCORE = (select min(SAFETY_SCORE) from CHICAGO_PUBLIC_SCHOOLS)\n"
   ]
  },
  {
   "cell_type": "raw",
   "metadata": {},
   "source": [
    "# Problem 10: [Without using an explicit JOIN operator] Find the Per Capita Income of the Community Area which has a school Safety Score of 1.\n"
   ]
  },
  {
   "cell_type": "code",
   "execution_count": 36,
   "metadata": {},
   "outputs": [
    {
     "name": "stdout",
     "output_type": "stream",
     "text": [
      " * ibm_db_sa://vkf57376:***@dashdb-txn-sbox-yp-lon02-07.services.eu-gb.bluemix.net:50000/BLUDB\n",
      "Done.\n"
     ]
    },
    {
     "data": {
      "text/html": [
       "<table>\n",
       "    <tr>\n",
       "        <th>per_capita_income</th>\n",
       "    </tr>\n",
       "    <tr>\n",
       "        <td>13785</td>\n",
       "    </tr>\n",
       "</table>"
      ],
      "text/plain": [
       "[(13785,)]"
      ]
     },
     "execution_count": 36,
     "metadata": {},
     "output_type": "execute_result"
    }
   ],
   "source": [
    "%sql select A.PER_CAPITA_INCOME from CENSUS_DATA as A, CHICAGO_PUBLIC_SCHOOLS as B \\\n",
    "where (A.COMMUNITY_AREA_NUMBER = B.COMMUNITY_AREA_NUMBER) and B.SAFETY_SCORE = 1;"
   ]
  },
  {
   "cell_type": "code",
   "execution_count": 38,
   "metadata": {},
   "outputs": [
    {
     "name": "stdout",
     "output_type": "stream",
     "text": [
      " * ibm_db_sa://vkf57376:***@dashdb-txn-sbox-yp-lon02-07.services.eu-gb.bluemix.net:50000/BLUDB\n",
      "Done.\n"
     ]
    },
    {
     "data": {
      "text/html": [
       "<table>\n",
       "    <tr>\n",
       "        <th>per_capita_income</th>\n",
       "        <th>community_area_name</th>\n",
       "    </tr>\n",
       "    <tr>\n",
       "        <td>13785</td>\n",
       "        <td>Washington Park</td>\n",
       "    </tr>\n",
       "</table>"
      ],
      "text/plain": [
       "[(13785, 'Washington Park')]"
      ]
     },
     "execution_count": 38,
     "metadata": {},
     "output_type": "execute_result"
    }
   ],
   "source": [
    "%sql select PER_CAPITA_INCOME, community_area_name from CENSUS_DATA where COMMUNITY_AREA_NUMBER = (select COMMUNITY_AREA_NUMBER from CHICAGO_PUBLIC_SCHOOLS where SAFETY_SCORE = 1)"
   ]
  },
  {
   "cell_type": "code",
   "execution_count": null,
   "metadata": {},
   "outputs": [],
   "source": []
  }
 ],
 "metadata": {
  "kernelspec": {
   "display_name": "Python 3",
   "language": "python",
   "name": "python3"
  },
  "language_info": {
   "codemirror_mode": {
    "name": "ipython",
    "version": 3
   },
   "file_extension": ".py",
   "mimetype": "text/x-python",
   "name": "python",
   "nbconvert_exporter": "python",
   "pygments_lexer": "ipython3",
   "version": "3.8.4"
  }
 },
 "nbformat": 4,
 "nbformat_minor": 4
}
